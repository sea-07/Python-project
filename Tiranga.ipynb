{
 "cells": [
  {
   "cell_type": "code",
   "execution_count": 1,
   "id": "be0f47e4",
   "metadata": {},
   "outputs": [],
   "source": [
    "import turtle"
   ]
  },
  {
   "cell_type": "code",
   "execution_count": null,
   "id": "39ef6156",
   "metadata": {},
   "outputs": [],
   "source": [
    "flag = turtle.Turtle()\n",
    "flag.speed(3)\n",
    "flag.pensize(5)\n",
    "flag.color('#054187')\n",
    "#Ashok Chakra\n",
    "def draw(x,y):\n",
    "    flag.penup()\n",
    "    flag.goto(x,y)\n",
    "    flag.pendown()\n",
    "for i in range(24):\n",
    "    flag.forward(80)\n",
    "    flag.backward(80)\n",
    "    flag.left(15)\n",
    "draw(0,-80)\n",
    "flag.circle(80,360)\n",
    "#Green Rectangle\n",
    "flag.color('Green')\n",
    "flag.begin_fill()\n",
    "\n",
    "flag.forward(350)\n",
    "flag.backward(700)\n",
    "flag.right(90)\n",
    "flag.forward(200)\n",
    "flag.left(90)\n",
    "flag.forward(700)\n",
    "flag.left(90)\n",
    "flag.forward(200)\n",
    "flag.left(90)\n",
    "\n",
    "flag.end_fill()\n",
    "flag.color('orange')\n",
    "draw(-350,80)\n",
    "\n",
    "flag.begin_fill()\n",
    "flag.right(180)\n",
    "flag.forward(700)\n",
    "flag.left(90)\n",
    "flag.forward(200)\n",
    "flag.left(90)\n",
    "flag.forward(700)\n",
    "flag.left(90)\n",
    "flag.forward(200)\n",
    "flag.end_fill()\n",
    "turtle.done()"
   ]
  },
  {
   "cell_type": "code",
   "execution_count": null,
   "id": "2728b4be",
   "metadata": {},
   "outputs": [],
   "source": []
  }
 ],
 "metadata": {
  "kernelspec": {
   "display_name": "Python 3",
   "language": "python",
   "name": "python3"
  },
  "language_info": {
   "codemirror_mode": {
    "name": "ipython",
    "version": 3
   },
   "file_extension": ".py",
   "mimetype": "text/x-python",
   "name": "python",
   "nbconvert_exporter": "python",
   "pygments_lexer": "ipython3",
   "version": "3.8.10"
  }
 },
 "nbformat": 4,
 "nbformat_minor": 5
}
